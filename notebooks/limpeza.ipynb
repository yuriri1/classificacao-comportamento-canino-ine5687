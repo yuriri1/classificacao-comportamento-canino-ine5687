{
 "cells": [
  {
   "cell_type": "code",
   "execution_count": 2,
   "id": "2b48670c",
   "metadata": {},
   "outputs": [],
   "source": [
    "%run setup.py\n",
    "\n",
    "from configs import utils\n",
    "import polars as pl\n",
    "import matplotlib.pyplot as plt\n",
    "import seaborn as sns\n",
    "import numpy as np\n",
    "\n",
    "pl.Config.set_tbl_hide_column_data_types(True)\n",
    "pl.Config.set_tbl_cols(-1)\n",
    "\n",
    "lf_dog_move_data = utils.load_large_data(\"../data/raw\", \"DogMoveData.csv\", schema=utils.dog_move_data_schema)"
   ]
  },
  {
   "cell_type": "code",
   "execution_count": 14,
   "id": "c33bd087",
   "metadata": {},
   "outputs": [],
   "source": [
    "lf_dog_move_data_clean = lf_dog_move_data.filter(\n",
    "    ~pl.any_horizontal([pl.col(\"Behavior_1\") == \"<undefined>\",\n",
    "                        pl.col(\"Behavior_1\") == \"Synchronization\",\n",
    "                        pl.col(\"Behavior_1\") == \"Extra_Synchronization\"\n",
    "                       ])\n",
    ")"
   ]
  },
  {
   "cell_type": "code",
   "execution_count": 15,
   "id": "c74ec966",
   "metadata": {},
   "outputs": [
    {
     "name": "stdout",
     "output_type": "stream",
     "text": [
      "Dados limpos e salvos com sucesso.\n"
     ]
    }
   ],
   "source": [
    "try:\n",
    "    lf_dog_move_data_clean.sink_csv(\"../data/processed/DogMoveData_Clean.csv\")\n",
    "    print(\"Dados limpos e salvos com sucesso.\")\n",
    "except Exception as e:\n",
    "    print(f\"Ocorreu um erro: {e}\")"
   ]
  },
  {
   "cell_type": "code",
   "execution_count": 17,
   "id": "feb1a243",
   "metadata": {},
   "outputs": [
    {
     "data": {
      "text/html": [
       "<div><style>\n",
       ".dataframe > thead > tr,\n",
       ".dataframe > tbody > tr {\n",
       "  text-align: right;\n",
       "  white-space: pre-wrap;\n",
       "}\n",
       "</style>\n",
       "<small>shape: (1, 1)</small><table border=\"1\" class=\"dataframe\"><thead><tr><th>len</th></tr></thead><tbody><tr><td>6556827</td></tr></tbody></table></div>"
      ],
      "text/plain": [
       "shape: (1, 1)\n",
       "┌─────────┐\n",
       "│ len     │\n",
       "╞═════════╡\n",
       "│ 6556827 │\n",
       "└─────────┘"
      ]
     },
     "execution_count": 17,
     "metadata": {},
     "output_type": "execute_result"
    }
   ],
   "source": [
    "lf_dog_move_data_clean.select(pl.len()).collect()"
   ]
  }
 ],
 "metadata": {
  "kernelspec": {
   "display_name": ".venv",
   "language": "python",
   "name": "python3"
  },
  "language_info": {
   "codemirror_mode": {
    "name": "ipython",
    "version": 3
   },
   "file_extension": ".py",
   "mimetype": "text/x-python",
   "name": "python",
   "nbconvert_exporter": "python",
   "pygments_lexer": "ipython3",
   "version": "3.12.7"
  }
 },
 "nbformat": 4,
 "nbformat_minor": 5
}
