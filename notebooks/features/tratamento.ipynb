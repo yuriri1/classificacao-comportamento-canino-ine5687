{
 "cells": [
  {
   "cell_type": "code",
   "execution_count": null,
   "id": "71ff25e9",
   "metadata": {},
   "outputs": [],
   "source": [
    "%run setup.py\n",
    "\n",
    "import polars as pl\n",
    "from configs import utils"
   ]
  },
  {
   "cell_type": "code",
   "execution_count": 2,
   "id": "3088920b",
   "metadata": {},
   "outputs": [],
   "source": [
    "lf_data_move = utils.load_large_data(\"../../data/processed/\", \"DogMoveData_Clean.csv\", schema=utils.dog_move_data_schema)"
   ]
  },
  {
   "cell_type": "code",
   "execution_count": 3,
   "id": "62a53ed0",
   "metadata": {},
   "outputs": [],
   "source": [
    "lf_data_move_filtered = lf_data_move.filter(\n",
    "    pl.col(\"Behavior_1\").is_in([\"Lying chest\", \"Sniffing\", \"Playing\", \"Walking\", \"Trotting\", \"Sitting\", \"Standing\"])\n",
    ")\n",
    "\n",
    "lf_data_move_filtered = lf_data_move_filtered.drop(['Task', 'Behavior_2', 'Behavior_3', \"PointEvent\"])"
   ]
  },
  {
   "cell_type": "code",
   "execution_count": 4,
   "id": "f6e6e269",
   "metadata": {},
   "outputs": [],
   "source": [
    "lf_data_move_denoised = lf_data_move_filtered.with_columns(\n",
    "    pl.col(\"ABack_x\").rolling_mean(window_size=100, center=True).over([\"DogID\", \"TestNum\"]).round(6),\n",
    "    pl.col(\"ABack_y\").rolling_mean(window_size=100, center=True).over([\"DogID\", \"TestNum\"]).round(6),\n",
    "    pl.col(\"ABack_z\").rolling_mean(window_size=100, center=True).over([\"DogID\", \"TestNum\"]).round(6),\n",
    "    pl.col(\"ANeck_x\").rolling_mean(window_size=100, center=True).over([\"DogID\", \"TestNum\"]).round(6),\n",
    "    pl.col(\"ANeck_y\").rolling_mean(window_size=100, center=True).over([\"DogID\", \"TestNum\"]).round(6),\n",
    "    pl.col(\"ANeck_z\").rolling_mean(window_size=100, center=True).over([\"DogID\", \"TestNum\"]).round(6),\n",
    "    pl.col(\"GBack_x\").rolling_mean(window_size=100, center=True).over([\"DogID\", \"TestNum\"]).round(6),\n",
    "    pl.col(\"GBack_y\").rolling_mean(window_size=100, center=True).over([\"DogID\", \"TestNum\"]).round(6),\n",
    "    pl.col(\"GBack_z\").rolling_mean(window_size=100, center=True).over([\"DogID\", \"TestNum\"]).round(6),\n",
    "    pl.col(\"GNeck_x\").rolling_mean(window_size=100, center=True).over([\"DogID\", \"TestNum\"]).round(6),\n",
    "    pl.col(\"GNeck_y\").rolling_mean(window_size=100, center=True).over([\"DogID\", \"TestNum\"]).round(6),\n",
    "    pl.col(\"GNeck_z\").rolling_mean(window_size=100, center=True).over([\"DogID\", \"TestNum\"]).round(6),\n",
    ").drop_nulls()"
   ]
  },
  {
   "cell_type": "code",
   "execution_count": 5,
   "id": "f888c8fb",
   "metadata": {},
   "outputs": [],
   "source": [
    "lf_duration = lf_data_move_denoised.with_columns(\n",
    "    (pl.datetime(1970, 1, 1) + pl.duration(milliseconds=(pl.col(\"t_sec\") * 1000).cast(pl.Int64))).alias(\"t_dt\")\n",
    ")\n",
    "\n",
    "lf_sorted = lf_duration.sort([\"DogID\", \"TestNum\", \"t_dt\"])"
   ]
  },
  {
   "cell_type": "code",
   "execution_count": 6,
   "id": "c964d946",
   "metadata": {},
   "outputs": [],
   "source": [
    "WINDOW_SIZE = \"2s\"\n",
    "STEP_DURATION = \"1s\"\n",
    "MIN_SAMPLES = 50\n",
    "\n",
    "lf_windowed = lf_sorted.group_by_dynamic(\n",
    "    index_column=\"t_dt\",\n",
    "    every=STEP_DURATION,\n",
    "    period=WINDOW_SIZE,\n",
    "    group_by=[\"DogID\", \"TestNum\"]\n",
    ").agg([\n",
    "    pl.len().alias(\"n_samples\"),\n",
    "    pl.all().implode(),\n",
    "])\n",
    "\n",
    "lf_window = lf_windowed.filter(\n",
    "    pl.col(\"ABack_x\").list.len() > 0\n",
    ")\n",
    "\n",
    "lf_window_clean = lf_window.filter(\n",
    "    pl.col(\"n_samples\") >= MIN_SAMPLES\n",
    ")"
   ]
  },
  {
   "cell_type": "code",
   "execution_count": null,
   "id": "25bed135",
   "metadata": {},
   "outputs": [],
   "source": [
    "try:\n",
    "    lf_data_move_filtered.slice(50, None).sink_csv(\"../../data/processed/DogMoveData_Noised.csv\")\n",
    "except Exception as e:\n",
    "    print(f\"Erro ao salvar os dados: {e}\")"
   ]
  },
  {
   "cell_type": "code",
   "execution_count": null,
   "id": "aafee986",
   "metadata": {},
   "outputs": [],
   "source": [
    "try:\n",
    "    lf_data_move_denoised.sink_csv(\"../../data/processed/DogMoveData_Denoised.csv\")\n",
    "except Exception as e:\n",
    "    print(f\"Erro ao salvar os dados: {e}\")                                                                                                                                                                                                                                      "
   ]
  },
  {
   "cell_type": "code",
   "execution_count": 9,
   "id": "74b99375",
   "metadata": {},
   "outputs": [],
   "source": [
    "try:\n",
    "    lf_window_clean.sink_parquet(\"../../data/processed/DogMoveData_Windowed_Denoised.parquet\")\n",
    "except Exception as e:\n",
    "    print(f\"Erro ao salvar os dados: {e}\")"
   ]
  },
  {
   "cell_type": "code",
   "execution_count": 10,
   "id": "f7c29798",
   "metadata": {},
   "outputs": [
    {
     "data": {
      "text/html": [
       "<div><style>\n",
       ".dataframe > thead > tr,\n",
       ".dataframe > tbody > tr {\n",
       "  text-align: right;\n",
       "  white-space: pre-wrap;\n",
       "}\n",
       "</style>\n",
       "<small>shape: (57_523, 18)</small><table border=\"1\" class=\"dataframe\"><thead><tr><th>DogID</th><th>TestNum</th><th>t_dt</th><th>n_samples</th><th>t_sec</th><th>ABack_x</th><th>ABack_y</th><th>ABack_z</th><th>ANeck_x</th><th>ANeck_y</th><th>ANeck_z</th><th>GBack_x</th><th>GBack_y</th><th>GBack_z</th><th>GNeck_x</th><th>GNeck_y</th><th>GNeck_z</th><th>Behavior_1</th></tr><tr><td>i64</td><td>i64</td><td>datetime[μs]</td><td>u32</td><td>list[f64]</td><td>list[f64]</td><td>list[f64]</td><td>list[f64]</td><td>list[f64]</td><td>list[f64]</td><td>list[f64]</td><td>list[f64]</td><td>list[f64]</td><td>list[f64]</td><td>list[f64]</td><td>list[f64]</td><td>list[f64]</td><td>list[str]</td></tr></thead><tbody><tr><td>16</td><td>1</td><td>1970-01-01 00:01:31</td><td>105</td><td>[91.31, 91.32, … 92.35]</td><td>[0.162578, 0.168833, … 0.133535]</td><td>[0.093765, 0.092339, … 0.209229]</td><td>[0.960957, 0.957222, … 0.919751]</td><td>[-0.401973, -0.401698, … -0.325522]</td><td>[0.004992, 0.006203, … 0.25294]</td><td>[-0.920781, -0.919709, … -0.898197]</td><td>[-4.973145, -4.788208, … -3.602295]</td><td>[-8.567505, -8.477784, … 5.15503]</td><td>[11.469727, 9.768067, … 16.123048]</td><td>[7.676807, 8.405872, … 17.062519]</td><td>[-3.081958, -3.083972, … -7.086396]</td><td>[14.917262, 15.580714, … -4.907386]</td><td>[&quot;Walking&quot;, &quot;Walking&quot;, … &quot;Walking&quot;]</td></tr><tr><td>16</td><td>1</td><td>1970-01-01 00:01:34</td><td>95</td><td>[95.05, 95.06, … 95.99]</td><td>[0.13519, 0.136831, … 0.104966]</td><td>[0.21042, 0.211152, … 0.110728]</td><td>[0.917598, 0.91623, … 0.976714]</td><td>[-0.324268, -0.323495, … -0.285273]</td><td>[0.256713, 0.260131, … 0.04354]</td><td>[-0.898799, -0.900589, … -0.945479]</td><td>[-3.901367, -4.25354, … -15.505372]</td><td>[4.854126, 4.752198, … 5.877686]</td><td>[16.538087, 16.789552, … 1.728516]</td><td>[17.065888, 17.099092, … 21.376344]</td><td>[-7.372883, -7.565754, … 0.900879]</td><td>[-5.673542, -6.549518, … -44.271853]</td><td>[&quot;Walking&quot;, &quot;Walking&quot;, … &quot;Walking&quot;]</td></tr><tr><td>16</td><td>1</td><td>1970-01-01 00:01:35</td><td>123</td><td>[95.05, 95.06, … 96.27]</td><td>[0.13519, 0.136831, … 0.220806]</td><td>[0.21042, 0.211152, … 0.157788]</td><td>[0.917598, 0.91623, … 0.96293]</td><td>[-0.324268, -0.323495, … -0.310142]</td><td>[0.256713, 0.260131, … -0.036479]</td><td>[-0.898799, -0.900589, … -0.97207]</td><td>[-3.901367, -4.25354, … -2.897949]</td><td>[4.854126, 4.752198, … -2.667847]</td><td>[16.538087, 16.789552, … 8.232422]</td><td>[17.065888, 17.099092, … 23.19214]</td><td>[-7.372883, -7.565754, … -16.778565]</td><td>[-5.673542, -6.549518, … -26.832277]</td><td>[&quot;Walking&quot;, &quot;Walking&quot;, … &quot;Walking&quot;]</td></tr><tr><td>16</td><td>1</td><td>1970-01-01 00:01:44</td><td>111</td><td>[104.89, 104.9, … 105.99]</td><td>[0.22292, 0.223989, … 0.079836]</td><td>[0.159512, 0.161973, … 0.207484]</td><td>[0.962764, 0.96249, … 0.958306]</td><td>[-0.310347, -0.311602, … -0.068428]</td><td>[-0.042588, -0.049404, … -0.104253]</td><td>[-0.970176, -0.966821, … -0.989023]</td><td>[-3.088989, -3.150635, … -3.315442]</td><td>[-2.13501, -1.596069, … 18.046742]</td><td>[6.52649, 4.832154, … 21.313435]</td><td>[22.715455, 22.542726, … -17.020265]</td><td>[-16.652223, -16.458741, … 21.071779]</td><td>[-27.645876, -28.412477, … 20.974733]</td><td>[&quot;Walking&quot;, &quot;Walking&quot;, … &quot;Walking&quot;]</td></tr><tr><td>16</td><td>1</td><td>1970-01-01 00:01:45</td><td>200</td><td>[105.0, 105.01, … 106.99]</td><td>[0.232979, 0.225181, … -0.188411]</td><td>[0.18417, 0.186958, … 0.104055]</td><td>[0.949434, 0.947422, … 0.953397]</td><td>[-0.327788, -0.32231, … 0.244141]</td><td>[-0.091782, -0.096186, … -0.25773]</td><td>[-0.942778, -0.943594, … -0.941211]</td><td>[-5.819092, -6.476441, … -7.028852]</td><td>[7.442017, 8.313599, … -1.153601]</td><td>[-8.507081, -9.112549, … -8.745429]</td><td>[22.44568, 21.345826, … 38.156741]</td><td>[-5.696411, -6.170044, … 4.931641]</td><td>[-39.347537, -40.77698, … -1.323242]</td><td>[&quot;Walking&quot;, &quot;Walking&quot;, … &quot;Walking&quot;]</td></tr><tr><td>&hellip;</td><td>&hellip;</td><td>&hellip;</td><td>&hellip;</td><td>&hellip;</td><td>&hellip;</td><td>&hellip;</td><td>&hellip;</td><td>&hellip;</td><td>&hellip;</td><td>&hellip;</td><td>&hellip;</td><td>&hellip;</td><td>&hellip;</td><td>&hellip;</td><td>&hellip;</td><td>&hellip;</td><td>&hellip;</td></tr><tr><td>74</td><td>2</td><td>1970-01-01 00:32:03</td><td>200</td><td>[1923.0, 1923.01, … 1924.99]</td><td>[0.013457, 0.017798, … -0.119785]</td><td>[0.272964, 0.273794, … 0.294712]</td><td>[0.938852, 0.937539, … 0.936597]</td><td>[-0.425696, -0.429712, … -0.323726]</td><td>[0.574038, 0.575361, … 0.567236]</td><td>[-0.729364, -0.730582, … -0.761084]</td><td>[4.549561, 4.800415, … 1.835327]</td><td>[-5.324097, -4.873657, … -21.569215]</td><td>[-9.652711, -10.618287, … -28.094484]</td><td>[-10.984272, -11.37602, … 17.851564]</td><td>[5.585974, 5.806263, … -31.42029]</td><td>[-0.664008, -1.12829, … 35.249636]</td><td>[&quot;Sniffing&quot;, &quot;Sniffing&quot;, … &quot;Sniffing&quot;]</td></tr><tr><td>74</td><td>2</td><td>1970-01-01 00:32:04</td><td>200</td><td>[1924.0, 1924.01, … 1925.99]</td><td>[-0.241484, -0.240596, … -0.051816]</td><td>[0.370806, 0.374673, … 0.311343]</td><td>[0.87269, 0.872197, … 0.914258]</td><td>[-0.24978, -0.245337, … -0.461011]</td><td>[0.595937, 0.598193, … 0.608086]</td><td>[-0.77125, -0.773442, … -0.644155]</td><td>[13.912354, 14.229127, … 1.881104]</td><td>[-26.726076, -27.937013, … 8.006592]</td><td>[-71.061406, -71.550297, … 30.858156]</td><td>[44.939578, 44.708255, … -43.912967]</td><td>[-64.526371, -64.356693, … 51.706546]</td><td>[91.475836, 91.029669, … -61.630863]</td><td>[&quot;Sniffing&quot;, &quot;Sniffing&quot;, … &quot;Sniffing&quot;]</td></tr><tr><td>74</td><td>2</td><td>1970-01-01 00:32:05</td><td>200</td><td>[1925.0, 1925.01, … 1926.99]</td><td>[-0.119233, -0.119922, … -0.007007]</td><td>[0.29104, 0.287344, … 0.298125]</td><td>[0.937236, 0.937632, … 0.936172]</td><td>[-0.325693, -0.327148, … -0.396724]</td><td>[0.56688, 0.56792, … 0.590396]</td><td>[-0.760303, -0.760278, … -0.721177]</td><td>[0.930176, 0.144043, … -6.218262]</td><td>[-21.002199, -20.390626, … 14.462281]</td><td>[-27.72278, -27.391969, … 27.543947]</td><td>[18.020631, 18.298341, … -0.661011]</td><td>[-31.75049, -32.039797, … 12.969361]</td><td>[35.977785, 36.729128, … -13.742677]</td><td>[&quot;Sniffing&quot;, &quot;Sniffing&quot;, … &quot;Sniffing&quot;]</td></tr><tr><td>74</td><td>2</td><td>1970-01-01 00:32:06</td><td>175</td><td>[1926.0, 1926.01, … 1927.74]</td><td>[-0.052446, -0.053428, … 0.021606]</td><td>[0.311475, 0.312607, … 0.334512]</td><td>[0.914297, 0.913525, … 0.908535]</td><td>[-0.458603, -0.456001, … -0.389102]</td><td>[0.607671, 0.606524, … 0.61667]</td><td>[-0.64354, -0.64396, … -0.707734]</td><td>[1.931763, 2.077637, … 1.687012]</td><td>[8.520508, 8.966675, … 14.430543]</td><td>[32.230837, 33.60718, … 60.735477]</td><td>[-43.731692, -43.515017, … -32.224123]</td><td>[51.932376, 52.031864, … 45.592044]</td><td>[-62.060551, -62.419437, … -52.272952]</td><td>[&quot;Sniffing&quot;, &quot;Sniffing&quot;, … &quot;Sniffing&quot;]</td></tr><tr><td>74</td><td>2</td><td>1970-01-01 00:32:07</td><td>75</td><td>[1927.0, 1927.01, … 1927.74]</td><td>[-0.008213, -0.008867, … 0.021606]</td><td>[0.296323, 0.294438, … 0.334512]</td><td>[0.936963, 0.93876, … 0.908535]</td><td>[-0.400815, -0.405298, … -0.389102]</td><td>[0.59061, 0.589048, … 0.61667]</td><td>[-0.721172, -0.720405, … -0.707734]</td><td>[-6.116944, -5.960694, … 1.687012]</td><td>[13.828736, 13.255006, … 14.430543]</td><td>[27.3761, 27.256471, … 60.735477]</td><td>[-0.993042, -1.393433, … -32.224123]</td><td>[13.213502, 13.593751, … 45.592044]</td><td>[-13.728639, -13.6615, … -52.272952]</td><td>[&quot;Sniffing&quot;, &quot;Sniffing&quot;, … &quot;Sniffing&quot;]</td></tr></tbody></table></div>"
      ],
      "text/plain": [
       "shape: (57_523, 18)\n",
       "┌───────┬─────────┬────────────┬───────────┬───┬────────────┬────────────┬────────────┬────────────┐\n",
       "│ DogID ┆ TestNum ┆ t_dt       ┆ n_samples ┆ … ┆ GNeck_x    ┆ GNeck_y    ┆ GNeck_z    ┆ Behavior_1 │\n",
       "│ ---   ┆ ---     ┆ ---        ┆ ---       ┆   ┆ ---        ┆ ---        ┆ ---        ┆ ---        │\n",
       "│ i64   ┆ i64     ┆ datetime[μ ┆ u32       ┆   ┆ list[f64]  ┆ list[f64]  ┆ list[f64]  ┆ list[str]  │\n",
       "│       ┆         ┆ s]         ┆           ┆   ┆            ┆            ┆            ┆            │\n",
       "╞═══════╪═════════╪════════════╪═══════════╪═══╪════════════╪════════════╪════════════╪════════════╡\n",
       "│ 16    ┆ 1       ┆ 1970-01-01 ┆ 105       ┆ … ┆ [7.676807, ┆ [-3.081958 ┆ [14.917262 ┆ [\"Walking\" │\n",
       "│       ┆         ┆ 00:01:31   ┆           ┆   ┆ 8.405872,  ┆ ,          ┆ ,          ┆ ,          │\n",
       "│       ┆         ┆            ┆           ┆   ┆ … 17.0625… ┆ -3.083972, ┆ 15.580714, ┆ \"Walking\", │\n",
       "│       ┆         ┆            ┆           ┆   ┆            ┆ … -7.08…   ┆ … -4.90…   ┆ … \"Walk…   │\n",
       "│ 16    ┆ 1       ┆ 1970-01-01 ┆ 95        ┆ … ┆ [17.065888 ┆ [-7.372883 ┆ [-5.673542 ┆ [\"Walking\" │\n",
       "│       ┆         ┆ 00:01:34   ┆           ┆   ┆ ,          ┆ ,          ┆ ,          ┆ ,          │\n",
       "│       ┆         ┆            ┆           ┆   ┆ 17.099092, ┆ -7.565754, ┆ -6.549518, ┆ \"Walking\", │\n",
       "│       ┆         ┆            ┆           ┆   ┆ … 21.37…   ┆ … 0.900…   ┆ … -44.2…   ┆ … \"Walk…   │\n",
       "│ 16    ┆ 1       ┆ 1970-01-01 ┆ 123       ┆ … ┆ [17.065888 ┆ [-7.372883 ┆ [-5.673542 ┆ [\"Walking\" │\n",
       "│       ┆         ┆ 00:01:35   ┆           ┆   ┆ ,          ┆ ,          ┆ ,          ┆ ,          │\n",
       "│       ┆         ┆            ┆           ┆   ┆ 17.099092, ┆ -7.565754, ┆ -6.549518, ┆ \"Walking\", │\n",
       "│       ┆         ┆            ┆           ┆   ┆ … 23.19…   ┆ … -16.7…   ┆ … -26.8…   ┆ … \"Walk…   │\n",
       "│ 16    ┆ 1       ┆ 1970-01-01 ┆ 111       ┆ … ┆ [22.715455 ┆ [-16.65222 ┆ [-27.64587 ┆ [\"Walking\" │\n",
       "│       ┆         ┆ 00:01:44   ┆           ┆   ┆ ,          ┆ 3, -16.458 ┆ 6, -28.412 ┆ ,          │\n",
       "│       ┆         ┆            ┆           ┆   ┆ 22.542726, ┆ 741, …     ┆ 477, …     ┆ \"Walking\", │\n",
       "│       ┆         ┆            ┆           ┆   ┆ … -17.0…   ┆ 21.…       ┆ 20.…       ┆ … \"Walk…   │\n",
       "│ 16    ┆ 1       ┆ 1970-01-01 ┆ 200       ┆ … ┆ [22.44568, ┆ [-5.696411 ┆ [-39.34753 ┆ [\"Walking\" │\n",
       "│       ┆         ┆ 00:01:45   ┆           ┆   ┆ 21.345826, ┆ ,          ┆ 7,         ┆ ,          │\n",
       "│       ┆         ┆            ┆           ┆   ┆ … 38.156…  ┆ -6.170044, ┆ -40.77698, ┆ \"Walking\", │\n",
       "│       ┆         ┆            ┆           ┆   ┆            ┆ … 4.931…   ┆ … -1.3…    ┆ … \"Walk…   │\n",
       "│ …     ┆ …       ┆ …          ┆ …         ┆ … ┆ …          ┆ …          ┆ …          ┆ …          │\n",
       "│ 74    ┆ 2       ┆ 1970-01-01 ┆ 200       ┆ … ┆ [-10.98427 ┆ [5.585974, ┆ [-0.664008 ┆ [\"Sniffing │\n",
       "│       ┆         ┆ 00:32:03   ┆           ┆   ┆ 2,         ┆ 5.806263,  ┆ ,          ┆ \", \"Sniffi │\n",
       "│       ┆         ┆            ┆           ┆   ┆ -11.37602, ┆ … -31.420… ┆ -1.12829,  ┆ ng\", …     │\n",
       "│       ┆         ┆            ┆           ┆   ┆ … 17.8…    ┆            ┆ … 35.249…  ┆ \"Sn…       │\n",
       "│ 74    ┆ 2       ┆ 1970-01-01 ┆ 200       ┆ … ┆ [44.939578 ┆ [-64.52637 ┆ [91.475836 ┆ [\"Sniffing │\n",
       "│       ┆         ┆ 00:32:04   ┆           ┆   ┆ ,          ┆ 1, -64.356 ┆ ,          ┆ \", \"Sniffi │\n",
       "│       ┆         ┆            ┆           ┆   ┆ 44.708255, ┆ 693, …     ┆ 91.029669, ┆ ng\", …     │\n",
       "│       ┆         ┆            ┆           ┆   ┆ … -43.9…   ┆ 51.…       ┆ … -61.6…   ┆ \"Sn…       │\n",
       "│ 74    ┆ 2       ┆ 1970-01-01 ┆ 200       ┆ … ┆ [18.020631 ┆ [-31.75049 ┆ [35.977785 ┆ [\"Sniffing │\n",
       "│       ┆         ┆ 00:32:05   ┆           ┆   ┆ ,          ┆ , -32.0397 ┆ ,          ┆ \", \"Sniffi │\n",
       "│       ┆         ┆            ┆           ┆   ┆ 18.298341, ┆ 97, …      ┆ 36.729128, ┆ ng\", …     │\n",
       "│       ┆         ┆            ┆           ┆   ┆ … -0.66…   ┆ 12.9…      ┆ … -13.7…   ┆ \"Sn…       │\n",
       "│ 74    ┆ 2       ┆ 1970-01-01 ┆ 175       ┆ … ┆ [-43.73169 ┆ [51.932376 ┆ [-62.06055 ┆ [\"Sniffing │\n",
       "│       ┆         ┆ 00:32:06   ┆           ┆   ┆ 2, -43.515 ┆ ,          ┆ 1, -62.419 ┆ \", \"Sniffi │\n",
       "│       ┆         ┆            ┆           ┆   ┆ 017, …     ┆ 52.031864, ┆ 437, …     ┆ ng\", …     │\n",
       "│       ┆         ┆            ┆           ┆   ┆ -32…       ┆ … 45.59…   ┆ -52…       ┆ \"Sn…       │\n",
       "│ 74    ┆ 2       ┆ 1970-01-01 ┆ 75        ┆ … ┆ [-0.993042 ┆ [13.213502 ┆ [-13.72863 ┆ [\"Sniffing │\n",
       "│       ┆         ┆ 00:32:07   ┆           ┆   ┆ ,          ┆ ,          ┆ 9,         ┆ \", \"Sniffi │\n",
       "│       ┆         ┆            ┆           ┆   ┆ -1.393433, ┆ 13.593751, ┆ -13.6615,  ┆ ng\", …     │\n",
       "│       ┆         ┆            ┆           ┆   ┆ … -32.2…   ┆ … 45.59…   ┆ … -52.2…   ┆ \"Sn…       │\n",
       "└───────┴─────────┴────────────┴───────────┴───┴────────────┴────────────┴────────────┴────────────┘"
      ]
     },
     "execution_count": 10,
     "metadata": {},
     "output_type": "execute_result"
    }
   ],
   "source": [
    "lf_window_clean.collect()"
   ]
  }
 ],
 "metadata": {
  "kernelspec": {
   "display_name": ".venv",
   "language": "python",
   "name": "python3"
  },
  "language_info": {
   "codemirror_mode": {
    "name": "ipython",
    "version": 3
   },
   "file_extension": ".py",
   "mimetype": "text/x-python",
   "name": "python",
   "nbconvert_exporter": "python",
   "pygments_lexer": "ipython3",
   "version": "3.12.7"
  }
 },
 "nbformat": 4,
 "nbformat_minor": 5
}
