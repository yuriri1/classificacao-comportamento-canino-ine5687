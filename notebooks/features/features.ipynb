{
 "cells": [
  {
   "cell_type": "code",
   "execution_count": 3,
   "id": "62f12758",
   "metadata": {},
   "outputs": [],
   "source": [
    "%run setup.py\n",
    "\n",
    "import polars as pl\n",
    "from configs import utils"
   ]
  },
  {
   "cell_type": "code",
   "execution_count": 28,
   "id": "45e36bb7",
   "metadata": {},
   "outputs": [],
   "source": [
    "lf_dogmove = utils.load_parquet(\n",
    "    \"../../data/processed\", \"DogMoveData_Windowed_Denoised.parquet\", \n",
    "    utils.dog_move_data_widowed_schema\n",
    ")\n",
    "\n",
    "lf_doginfo = utils.load_large_data(\"../../data/raw/\", \"DogInfo.csv\")"
   ]
  },
  {
   "cell_type": "code",
   "execution_count": 5,
   "id": "a7db2d9a",
   "metadata": {},
   "outputs": [],
   "source": [
    "PURITY_THRESHOLD = 0.75\n",
    "\n",
    "lf_dogmove_with_label = lf_dogmove.with_columns([\n",
    "    pl.col(\"Behavior_1\").list.eval(\n",
    "        pl.element().mode().first()\n",
    "    ).list.first().alias(\"label\"),\n",
    "    \n",
    "    pl.struct([\n",
    "        pl.col(\"Behavior_1\").list.eval(pl.element().mode().first()).list.first().alias(\"mode_value\"),\n",
    "        pl.col(\"Behavior_1\")\n",
    "    ]).map_elements(\n",
    "        lambda x: (x[\"Behavior_1\"].count(x[\"mode_value\"]) / len(x[\"Behavior_1\"])) if len(x[\"Behavior_1\"]) > 0 else 0.0,\n",
    "        return_dtype=pl.Float64\n",
    "    ).alias(\"purity\")\n",
    "])\n",
    "\n",
    "lf_dogmove_filtered = lf_dogmove_with_label.filter(\n",
    "    pl.col(\"purity\") >= PURITY_THRESHOLD\n",
    ")"
   ]
  },
  {
   "cell_type": "code",
   "execution_count": 24,
   "id": "477a9f0c",
   "metadata": {},
   "outputs": [],
   "source": [
    "sensors_cols = [\n",
    "    \"ABack_x\", \"ABack_y\", \"ABack_z\",\n",
    "    \"ANeck_x\", \"ANeck_y\", \"ANeck_z\",\n",
    "    \"GBack_x\", \"GBack_y\", \"GBack_z\",\n",
    "    \"GNeck_x\", \"GNeck_y\", \"GNeck_z\"\n",
    "]\n",
    "\n",
    "feature_expr = []\n",
    "\n",
    "for col in sensors_cols:\n",
    "    feature_expr.extend([\n",
    "        pl.col(col).list.mean().round(decimals=6).alias(f\"{col}_mean\"),\n",
    "        pl.col(col).list.std().round(decimals=6).alias(f\"{col}_std\"),\n",
    "        pl.col(col).list.min().round(decimals=6).alias(f\"{col}_min\"),\n",
    "        pl.col(col).list.max().round(decimals=6).alias(f\"{col}_max\"),\n",
    "        pl.col(col).list.median().round(decimals=6).alias(f\"{col}_median\"),\n",
    "        pl.col(col).list.eval(pl.element().abs()).list.sum().round(decimals=6).alias(f\"{col}_abs_sum\")\n",
    "    ])\n",
    "\n",
    "lf_features = lf_dogmove_filtered.with_columns(feature_expr)\n"
   ]
  },
  {
   "cell_type": "code",
   "execution_count": null,
   "id": "7dc32402",
   "metadata": {},
   "outputs": [],
   "source": [
    "cols_to_remove = [\"TestNum\", \"t_dt\", \"n_samples\", \"t_sec\",\n",
    "                                \"ABack_x\", \"ABack_y\", \"ABack_z\",\n",
    "                                \"ANeck_x\", \"ANeck_y\", \"ANeck_z\",\n",
    "                                \"GBack_x\", \"GBack_y\", \"GBack_z\",\n",
    "                                \"GNeck_x\", \"GNeck_y\", \"GNeck_z\",\n",
    "                                \"Behavior_1\", \"purity\"]\n",
    "\n",
    "lf_features = lf_features.select(pl.all().exclude(cols_to_remove))"
   ]
  },
  {
   "cell_type": "code",
   "execution_count": 30,
   "id": "ec4215fb",
   "metadata": {},
   "outputs": [],
   "source": [
    "lf_info_features = lf_doginfo.select(pl.all().exclude([\"Breed\", \"Gender\", \"NeuteringStatus\"]))"
   ]
  },
  {
   "cell_type": "code",
   "execution_count": 32,
   "id": "1697a17f",
   "metadata": {},
   "outputs": [],
   "source": [
    "lf_final = lf_features.join(lf_info_features, on=\"DogID\", how=\"left\")"
   ]
  },
  {
   "cell_type": "code",
   "execution_count": 33,
   "id": "187f73cc",
   "metadata": {},
   "outputs": [],
   "source": [
    "lf_final.sink_csv(\"../../data/processed/DogFeatures.csv\")"
   ]
  }
 ],
 "metadata": {
  "kernelspec": {
   "display_name": ".venv",
   "language": "python",
   "name": "python3"
  },
  "language_info": {
   "codemirror_mode": {
    "name": "ipython",
    "version": 3
   },
   "file_extension": ".py",
   "mimetype": "text/x-python",
   "name": "python",
   "nbconvert_exporter": "python",
   "pygments_lexer": "ipython3",
   "version": "3.12.7"
  }
 },
 "nbformat": 4,
 "nbformat_minor": 5
}
