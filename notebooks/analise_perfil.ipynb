{
 "cells": [
  {
   "cell_type": "code",
   "execution_count": null,
   "id": "44db2c82",
   "metadata": {},
   "outputs": [],
   "source": [
    "import sys\n",
    "import os\n",
    "\n",
    "project_root = os.path.abspath('..')\n",
    "if project_root not in sys.path:\n",
    "    sys.path.append(project_root)\n",
    "\n",
    "from configs import utils\n",
    "import polars as pl\n",
    "import matplotlib.pyplot as plt\n",
    "import seaborn as sns\n",
    "import numpy as np\n",
    "\n",
    "pl.Config.set_tbl_hide_column_data_types(True)\n",
    "\n",
    "df_dog_info = utils.load_data(\"../data/raw\", \"DogInfo.csv\")"
   ]
  },
  {
   "cell_type": "code",
   "execution_count": null,
   "id": "9e863831",
   "metadata": {},
   "outputs": [],
   "source": [
    "df_dog_info.describe()"
   ]
  },
  {
   "cell_type": "code",
   "execution_count": null,
   "id": "02373381",
   "metadata": {},
   "outputs": [],
   "source": [
    "df_dog_info.null_count()"
   ]
  },
  {
   "cell_type": "code",
   "execution_count": null,
   "id": "c0e4f430",
   "metadata": {},
   "outputs": [],
   "source": [
    "counts= df_dog_info.group_by('Breed').agg(pl.len().alias('count')).sort('count', descending=True)\n",
    "\n",
    "plt.figure(figsize=(14, 6))\n",
    "sns.barplot(x='Breed', y='count', data=counts)\n",
    "plt.title('Distribuição de Raças de Cães')\n",
    "plt.xlabel('Raça')\n",
    "plt.ylabel('Quantidade')\n",
    "plt.xticks(rotation=60, ha='right')\n",
    "plt.tight_layout()\n",
    "plt.gca().yaxis.set_major_locator(plt.MaxNLocator(integer=True)) # type: ignore\n",
    "plt.savefig(\"../reports/figures/distribuicao_racas_caes.png\")\n",
    "plt.show()\n"
   ]
  },
  {
   "cell_type": "code",
   "execution_count": null,
   "id": "83a63ecb",
   "metadata": {},
   "outputs": [],
   "source": [
    "df_dog_info = df_dog_info.with_columns(\n",
    "    (pl.col(\"Age months\") / 12).alias(\"Age\")\n",
    ")\n",
    "\n",
    "plt.figure(figsize=(10, 6))\n",
    "sns.histplot(df_dog_info.select(\"Age\"), bins=30, kde=True)\n",
    "plt.title('Distribuição de Idade dos Cães')\n",
    "plt.xlabel('Idade (em anos)')\n",
    "plt.ylabel('Quantidade')\n",
    "plt.tight_layout()\n",
    "plt.gca().yaxis.set_major_locator(plt.MaxNLocator(integer=True)) # type: ignore\n",
    "plt.savefig(\"../reports/figures/distribuicao_idade_caes.png\")\n",
    "plt.show()\n",
    "\n",
    "print(df_dog_info.select(\"Age\").describe())"
   ]
  },
  {
   "cell_type": "code",
   "execution_count": null,
   "id": "984f5970",
   "metadata": {},
   "outputs": [],
   "source": [
    "plt.figure(figsize=(10, 6))\n",
    "sns.histplot(df_dog_info.select(\"Weight\"), bins=30, kde=True)\n",
    "plt.title('Distribuição de Peso dos Cães')\n",
    "plt.xlabel('Peso (em kg)')\n",
    "plt.ylabel('Quantidade')\n",
    "plt.tight_layout()\n",
    "plt.gca().yaxis.set_major_locator(plt.MaxNLocator(integer=True)) # type: ignore\n",
    "plt.savefig(\"../reports/figures/distribuicao_peso_caes.png\")\n",
    "plt.show()\n",
    "\n",
    "print(df_dog_info.select(\"Weight\").describe())\n"
   ]
  },
  {
   "cell_type": "code",
   "execution_count": null,
   "id": "69dabd45",
   "metadata": {},
   "outputs": [],
   "source": [
    "gender_counts = df_dog_info.group_by('Gender').agg(pl.len().alias('count'))\n",
    "\n",
    "plt.figure(figsize=(8, 6))\n",
    "plt.pie(gender_counts['count'], labels=(\"Fêmeas\", \"Machos\"), autopct='%1.1f%%')\n",
    "plt.title('Distribuição por Sexo')\n",
    "plt.tight_layout()\n",
    "plt.savefig(\"../reports/figures/distribuicao_sexo_caes.png\")\n",
    "plt.show()\n"
   ]
  },
  {
   "cell_type": "code",
   "execution_count": null,
   "id": "4d446d70",
   "metadata": {},
   "outputs": [],
   "source": [
    "neutered_counts = df_dog_info.group_by('NeuteringStatus').agg(pl.len().alias('count'))\n",
    "\n",
    "plt.figure(figsize=(8, 6))\n",
    "plt.pie(neutered_counts['count'], labels=(\"Castrado\", \"Não Castrado\"), autopct='%1.1f%%')\n",
    "plt.title('Distribuição por Castração')\n",
    "plt.tight_layout()\n",
    "plt.savefig(\"../reports/figures/distribuicao_castracao_caes.png\")\n",
    "plt.show()\n"
   ]
  }
 ],
 "metadata": {
  "kernelspec": {
   "display_name": ".venv",
   "language": "python",
   "name": "python3"
  },
  "language_info": {
   "codemirror_mode": {
    "name": "ipython",
    "version": 3
   },
   "file_extension": ".py",
   "mimetype": "text/x-python",
   "name": "python",
   "nbconvert_exporter": "python",
   "pygments_lexer": "ipython3",
   "version": "3.12.7"
  }
 },
 "nbformat": 4,
 "nbformat_minor": 5
}
