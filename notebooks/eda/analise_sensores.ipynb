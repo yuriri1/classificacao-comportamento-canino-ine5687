{
 "cells": [
  {
   "cell_type": "code",
   "execution_count": 1,
   "id": "06272718",
   "metadata": {},
   "outputs": [],
   "source": [
    "%run setup.py\n",
    "\n",
    "from configs import utils\n",
    "import polars as pl\n",
    "import matplotlib.pyplot as plt\n",
    "import seaborn as sns\n",
    "import numpy as np\n",
    "\n",
    "pl.Config.set_tbl_hide_column_data_types(True)\n",
    "pl.Config.set_tbl_cols(-1)\n",
    "\n",
    "lf_dog_move_data = utils.load_large_data(\"../data/processed\", \"DogMoveData_Clean.csv\", schema=utils.dog_move_data_schema)"
   ]
  },
  {
   "cell_type": "code",
   "execution_count": 2,
   "id": "6f22fc48",
   "metadata": {},
   "outputs": [],
   "source": [
    "dog_16 = lf_dog_move_data.filter(pl.col(\"DogID\") == 16)\n",
    "\n",
    "dog_16_3min = dog_16.filter(\n",
    "    pl.col(\"t_sec\").is_between(90.81, 90.81 + 3 * 60)\n",
    ").collect()"
   ]
  },
  {
   "cell_type": "code",
   "execution_count": null,
   "id": "55036dc4",
   "metadata": {},
   "outputs": [],
   "source": [
    "df_pd_16 = dog_16_3min.to_pandas()\n",
    "\n",
    "plt.figure(figsize=(15, 7))\n",
    "sns.scatterplot(\n",
    "    data=df_pd_16, \n",
    "    x=\"t_sec\", \n",
    "    y=\"ABack_x\", \n",
    "    hue=\"Behavior_1\", \n",
    "    s=10,\n",
    "    alpha=0.7,\n",
    "    edgecolor='none'\n",
    ")\n",
    "plt.title(\"Aceleração do eixo X das costas ao Longo do Tempo\")\n",
    "plt.xlabel(\"Tempo (s)\")\n",
    "plt.ylabel(\"Aceleração do eixo X (m/s²)\")\n",
    "plt.legend(title=\"Comportamento\", bbox_to_anchor=(1.05, 1), loc='upper left')\n",
    "plt.grid(True, linestyle='--', alpha=0.6)\n",
    "plt.tight_layout()\n",
    "plt.savefig(\"../reports/figures/aceleracao_eixo_x_das_costas.png\", dpi=300)\n",
    "plt.show()"
   ]
  },
  {
   "cell_type": "code",
   "execution_count": 11,
   "id": "1835e580",
   "metadata": {},
   "outputs": [],
   "source": [
    "dog_61 = lf_dog_move_data.filter(pl.col(\"DogID\") == 61)\n",
    "\n",
    "dog_61_3min = dog_61.filter(\n",
    "    pl.col(\"t_sec\").is_between(1000, 1000 + 3 * 60)\n",
    ").collect()"
   ]
  },
  {
   "cell_type": "code",
   "execution_count": null,
   "id": "c479768b",
   "metadata": {},
   "outputs": [],
   "source": [
    "df_pd_61 = dog_61_3min.to_pandas()\n",
    "\n",
    "plt.figure(figsize=(12, 6))\n",
    "sns.scatterplot(\n",
    "    data=df_pd_61, \n",
    "    x=\"t_sec\", \n",
    "    y=\"ANeck_x\",\n",
    "    hue=\"Behavior_1\",\n",
    "    s=10,\n",
    "    alpha=0.7,\n",
    "    edgecolor=None\n",
    ")\n",
    "plt.title(\"Aceleração do eixo X do pescoço ao Longo do Tempo\")\n",
    "plt.xlabel(\"Tempo (s)\")\n",
    "plt.ylabel(\"Aceleração (m/s²)\")\n",
    "plt.legend(title=\"Comportamento\", bbox_to_anchor=(1.05, 1), loc='upper left')\n",
    "plt.grid(True, linestyle='--', alpha=0.6)\n",
    "plt.tight_layout()\n",
    "plt.savefig(\"../reports/figures/aceleracao_eixo_x_do_pescoco.png\", dpi=300)\n",
    "plt.show()"
   ]
  },
  {
   "cell_type": "code",
   "execution_count": 21,
   "id": "166cc54e",
   "metadata": {},
   "outputs": [],
   "source": [
    "filtered_lf = lf_dog_move_data.filter(\n",
    "    pl.col(\"Behavior_1\")\n",
    "        .is_in([\"Lying chest\", \"Standing\", \"Sitting\"]))\n",
    "\n",
    "sample = filtered_lf.collect().sample(n=100_000, seed=42)"
   ]
  },
  {
   "cell_type": "code",
   "execution_count": null,
   "id": "52522684",
   "metadata": {},
   "outputs": [],
   "source": [
    "plt.figure(figsize=(12, 6))\n",
    "sns.boxplot(\n",
    "    data=sample,\n",
    "    x=\"Behavior_1\",\n",
    "    y=\"ABack_y\",\n",
    "    hue=\"Behavior_1\"\n",
    ")\n",
    "plt.title(\"Boxplot da Aceleração do eixo Y das costas por Comportamento\")\n",
    "plt.xlabel(\"Comportamento\")\n",
    "plt.ylabel(\"Aceleração (m/s²)\")\n",
    "plt.grid(True, linestyle='--', alpha=0.6)\n",
    "plt.tight_layout()\n",
    "plt.savefig(\"../reports/figures/boxplot_aceleracao_eixo_y_das_costas.png\", dpi=300)\n",
    "plt.show()"
   ]
  },
  {
   "cell_type": "code",
   "execution_count": null,
   "id": "b70da14b",
   "metadata": {},
   "outputs": [],
   "source": [
    "sensor_cols = [\n",
    "    \"ABack_x\", \"ABack_y\", \"ABack_z\",\n",
    "    \"ANeck_x\", \"ANeck_y\", \"ANeck_z\",\n",
    "    \"GBack_x\", \"GBack_y\", \"GBack_z\",\n",
    "    \"GNeck_x\", \"GNeck_y\", \"GNeck_z\",\n",
    "]\n",
    "\n",
    "sample_sensors_pd = sample.select(sensor_cols).to_pandas()\n",
    "\n",
    "plt.figure(figsize=(9, 7))\n",
    "corr = sample_sensors_pd.corr(numeric_only=True)\n",
    "ax = sns.heatmap(\n",
    "    corr,\n",
    "    annot=True,\n",
    "    cmap=\"coolwarm\",\n",
    "    fmt=\".2f\",\n",
    "    xticklabels=corr.columns,\n",
    "    yticklabels=corr.index,\n",
    "    square=True,\n",
    "    cbar_kws={\"shrink\": 0.8},\n",
    ")\n",
    "plt.title(\"Correlação entre sinais dos sensores\")\n",
    "plt.xticks(rotation=45, ha=\"right\")\n",
    "plt.yticks(rotation=0)\n",
    "plt.tight_layout()\n",
    "plt.savefig(\"../reports/figures/heatmap_correlacao_sensores.png\", dpi=300)\n",
    "plt.show()"
   ]
  },
  {
   "cell_type": "code",
   "execution_count": null,
   "id": "e404b465",
   "metadata": {},
   "outputs": [],
   "source": []
  }
 ],
 "metadata": {
  "kernelspec": {
   "display_name": ".venv",
   "language": "python",
   "name": "python3"
  },
  "language_info": {
   "codemirror_mode": {
    "name": "ipython",
    "version": 3
   },
   "file_extension": ".py",
   "mimetype": "text/x-python",
   "name": "python",
   "nbconvert_exporter": "python",
   "pygments_lexer": "ipython3",
   "version": "3.12.7"
  }
 },
 "nbformat": 4,
 "nbformat_minor": 5
}
